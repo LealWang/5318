{
  "nbformat": 4,
  "nbformat_minor": 0,
  "metadata": {
    "colab": {
      "name": "SVM_Trained.ipynb",
      "version": "0.3.2",
      "provenance": [],
      "collapsed_sections": []
    },
    "kernelspec": {
      "name": "python3",
      "display_name": "Python 3"
    },
    "accelerator": "GPU"
  },
  "cells": [
    {
      "cell_type": "code",
      "metadata": {
        "id": "Ze3cmQ9dRU5l",
        "colab_type": "code",
        "outputId": "7a7dde19-1cbc-483d-cb9b-4cdbc946ceb7",
        "colab": {
          "base_uri": "https://localhost:8080/",
          "height": 34
        }
      },
      "source": [
        "from keras.datasets import fashion_mnist\n",
        "from sklearn.svm import SVC\n",
        "from sklearn.decomposition import PCA\n",
        "from sklearn import preprocessing\n",
        "import matplotlib.pyplot as plt\n",
        "from sklearn.model_selection import GridSearchCV\n",
        "from sklearn.metrics import confusion_matrix,classification_report\n",
        "import numpy as np\n",
        "import time\n",
        "import itertools "
      ],
      "execution_count": 0,
      "outputs": [
        {
          "output_type": "stream",
          "text": [
            "Using TensorFlow backend.\n"
          ],
          "name": "stderr"
        }
      ]
    },
    {
      "cell_type": "markdown",
      "metadata": {
        "id": "wvqi0qgnyKlm",
        "colab_type": "text"
      },
      "source": [
        "# 1.Import Dataset"
      ]
    },
    {
      "cell_type": "code",
      "metadata": {
        "id": "FnsQSbcyYQ9I",
        "colab_type": "code",
        "outputId": "d0d23c27-a5e9-424d-f364-467b015ac326",
        "colab": {
          "base_uri": "https://localhost:8080/",
          "height": 153
        }
      },
      "source": [
        "#import the dataset\n",
        "(X_train, y_train), (X_test, y_test) = fashion_mnist.load_data()"
      ],
      "execution_count": 0,
      "outputs": [
        {
          "output_type": "stream",
          "text": [
            "Downloading data from http://fashion-mnist.s3-website.eu-central-1.amazonaws.com/train-labels-idx1-ubyte.gz\n",
            "32768/29515 [=================================] - 0s 3us/step\n",
            "Downloading data from http://fashion-mnist.s3-website.eu-central-1.amazonaws.com/train-images-idx3-ubyte.gz\n",
            "26427392/26421880 [==============================] - 2s 0us/step\n",
            "Downloading data from http://fashion-mnist.s3-website.eu-central-1.amazonaws.com/t10k-labels-idx1-ubyte.gz\n",
            "8192/5148 [===============================================] - 0s 0us/step\n",
            "Downloading data from http://fashion-mnist.s3-website.eu-central-1.amazonaws.com/t10k-images-idx3-ubyte.gz\n",
            "4423680/4422102 [==============================] - 1s 0us/step\n"
          ],
          "name": "stdout"
        }
      ]
    },
    {
      "cell_type": "markdown",
      "metadata": {
        "id": "o_fSaIoeyQh_",
        "colab_type": "text"
      },
      "source": [
        "# 2.Data Preprocessing"
      ]
    },
    {
      "cell_type": "markdown",
      "metadata": {
        "id": "G-sarlWqyUeG",
        "colab_type": "text"
      },
      "source": [
        "## 2.1StandardScaler"
      ]
    },
    {
      "cell_type": "code",
      "metadata": {
        "id": "E8mVKAiHRpQv",
        "colab_type": "code",
        "colab": {}
      },
      "source": [
        "#StandardScaler\n",
        "def data_flatten(X_dataset):\n",
        "  X_num, nx, ny = X_dataset.shape\n",
        "  X_dataset = X_dataset.astype('float64').reshape((X_num,nx*ny))\n",
        "  return X_dataset\n",
        "def std_scaler(X_dataset):\n",
        "    std_scaler = preprocessing.StandardScaler()\n",
        "    std_scaler.fit(X_dataset)\n",
        "    return std_scaler\n",
        "X_train = data_flatten(X_train)\n",
        "X_test = data_flatten(X_test)\n",
        "scaler = std_scaler(X_train)\n",
        "X_train = scaler.transform(X_train)\n",
        "X_test = scaler.transform(X_test)"
      ],
      "execution_count": 0,
      "outputs": []
    },
    {
      "cell_type": "markdown",
      "metadata": {
        "id": "IXfW0dOAzGoe",
        "colab_type": "text"
      },
      "source": [
        "## 2.2PCA"
      ]
    },
    {
      "cell_type": "code",
      "metadata": {
        "id": "hslbXECnilY1",
        "colab_type": "code",
        "colab": {}
      },
      "source": [
        "#PCA   \n",
        "pca = PCA(n_components=256)#set the dimension which contains 95% information\n",
        "X_train = pca.fit_transform(X_train)\n",
        "pca.explained_variance_ratio_\n",
        "X_test = pca.transform(X_test)"
      ],
      "execution_count": 0,
      "outputs": []
    },
    {
      "cell_type": "markdown",
      "metadata": {
        "id": "pZ5mtyI72ImQ",
        "colab_type": "text"
      },
      "source": [
        "# 3.Trained Model"
      ]
    },
    {
      "cell_type": "markdown",
      "metadata": {
        "id": "nrR3z2Nipjbi",
        "colab_type": "text"
      },
      "source": [
        "## 3.1Prediction"
      ]
    },
    {
      "cell_type": "code",
      "metadata": {
        "id": "aCtG9rF9l3dG",
        "colab_type": "code",
        "outputId": "fb0dbf55-2571-4758-d1f5-81bde0bb6394",
        "colab": {
          "base_uri": "https://localhost:8080/",
          "height": 34
        }
      },
      "source": [
        "start = time.time()\n",
        "svclassifier = SVC(kernel='rbf',C=10,gamma=0.001)\n",
        "svclassifier.fit(X_train, y_train)\n",
        "end = time.time()\n",
        "print(\"the time for training model is {} seconds.\".format(str(end-start)))"
      ],
      "execution_count": 0,
      "outputs": [
        {
          "output_type": "stream",
          "text": [
            "the time for training model is 256.76639127731323 seconds.\n"
          ],
          "name": "stdout"
        }
      ]
    },
    {
      "cell_type": "code",
      "metadata": {
        "id": "VaBq6U18letE",
        "colab_type": "code",
        "outputId": "d517cd6e-941f-4eca-9992-47d3bf24a5e0",
        "colab": {
          "base_uri": "https://localhost:8080/",
          "height": 34
        }
      },
      "source": [
        "start = time.time()\n",
        "y_pred = svclassifier.predict(X_test)\n",
        "end = time.time()\n",
        "print(\"the time for predicting label is {} seconds.\".format(str(end-start)))"
      ],
      "execution_count": 0,
      "outputs": [
        {
          "output_type": "stream",
          "text": [
            "the time for predicting label is 77.41421294212341 seconds.\n"
          ],
          "name": "stdout"
        }
      ]
    },
    {
      "cell_type": "markdown",
      "metadata": {
        "id": "23z521txpqbJ",
        "colab_type": "text"
      },
      "source": [
        "## 3.2 Evaluation"
      ]
    },
    {
      "cell_type": "code",
      "metadata": {
        "id": "cHlieYFCnLwk",
        "colab_type": "code",
        "colab": {}
      },
      "source": [
        "#get confusion matrix\n",
        "def plot_confusion_matrix(cm, classes,\n",
        "                          normalize=True,\n",
        "                          title='Confusion matrix',\n",
        "                          cmap='Oranges'):\n",
        "  if normalize:\n",
        "    cm = cm.astype('float') / cm.sum(axis=1)[:, np.newaxis]\n",
        "  f = plt.figure()\n",
        "\n",
        "  plt.imshow(cm, interpolation='nearest', cmap=cmap)\n",
        "  plt.title(title)\n",
        "  plt.colorbar()\n",
        "  tick_marks = np.arange(len(classes))\n",
        "  plt.xticks(tick_marks, classes, rotation=45)\n",
        "  plt.yticks(tick_marks, classes)\n",
        "  fmt = '.2f' if normalize else 'd'\n",
        "  thresh = cm.max() / 2.\n",
        "  for i, j in itertools.product(range(cm.shape[0]), range(cm.shape[1])):\n",
        "      plt.text(j, i, format(cm[i, j], fmt),\n",
        "              horizontalalignment=\"center\",\n",
        "              color=\"white\" if cm[i, j] > thresh else \"black\")\n",
        "  plt.tight_layout()\n",
        "  plt.ylabel('Actual')\n",
        "  plt.xlabel('Predicted')\n",
        "  "
      ],
      "execution_count": 0,
      "outputs": []
    },
    {
      "cell_type": "code",
      "metadata": {
        "id": "bwuuZ_ykn-Ce",
        "colab_type": "code",
        "colab": {}
      },
      "source": [
        "classes = [i for i in range(10)]\n",
        "cfz_mat = confusion_matrix(y_test, y_pred)\n",
        "plt.figure()\n",
        "plot_confusion_matrix(cfz_mat, classes=classes, normalize=True,\n",
        "                      title='SVM confusion matrix')\n",
        "plt.show()"
      ],
      "execution_count": 0,
      "outputs": []
    },
    {
      "cell_type": "code",
      "metadata": {
        "id": "LGqERlKzn_qg",
        "colab_type": "code",
        "outputId": "6bbf7c8f-c40c-425c-a672-0536fe92fa17",
        "colab": {
          "base_uri": "https://localhost:8080/",
          "height": 476
        }
      },
      "source": [
        "print(confusion_matrix(y_test, y_pred))\n",
        "print(classification_report(y_test, y_pred))"
      ],
      "execution_count": 0,
      "outputs": [
        {
          "output_type": "stream",
          "text": [
            "[[855   0  11  24   5   1  94   0  10   0]\n",
            " [  4 968   2  19   5   0   2   0   0   0]\n",
            " [ 20   1 818  13  84   0  61   0   3   0]\n",
            " [ 21   5  12 908  31   0  18   0   5   0]\n",
            " [  0   0  78  25 835   0  60   0   2   0]\n",
            " [  0   0   0   1   0 966   0  19   2  12]\n",
            " [116   1  78  30  54   1 708   0  12   0]\n",
            " [  0   0   0   0   0  10   0 976   0  14]\n",
            " [  2   0   5   6   2   5   3   3 974   0]\n",
            " [  0   0   0   0   0   9   0  37   2 952]]\n",
            "              precision    recall  f1-score   support\n",
            "\n",
            "           0       0.84      0.85      0.85      1000\n",
            "           1       0.99      0.97      0.98      1000\n",
            "           2       0.81      0.82      0.82      1000\n",
            "           3       0.88      0.91      0.90      1000\n",
            "           4       0.82      0.83      0.83      1000\n",
            "           5       0.97      0.97      0.97      1000\n",
            "           6       0.75      0.71      0.73      1000\n",
            "           7       0.94      0.98      0.96      1000\n",
            "           8       0.96      0.97      0.97      1000\n",
            "           9       0.97      0.95      0.96      1000\n",
            "\n",
            "    accuracy                           0.90     10000\n",
            "   macro avg       0.90      0.90      0.90     10000\n",
            "weighted avg       0.90      0.90      0.90     10000\n",
            "\n"
          ],
          "name": "stdout"
        }
      ]
    }
  ]
}